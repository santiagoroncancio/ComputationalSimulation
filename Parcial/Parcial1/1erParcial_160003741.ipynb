{
  "nbformat": 4,
  "nbformat_minor": 0,
  "metadata": {
    "colab": {
      "name": "1erParcial_160003741.ipynb",
      "provenance": [],
      "collapsed_sections": [],
      "include_colab_link": true
    },
    "kernelspec": {
      "name": "python3",
      "display_name": "Python 3"
    }
  },
  "cells": [
    {
      "cell_type": "markdown",
      "metadata": {
        "id": "view-in-github",
        "colab_type": "text"
      },
      "source": [
        "<a href=\"https://colab.research.google.com/github/santiagoroncancio/ComputationalSimulation/blob/master/Parcial/Parcial1/1erParcial_160003741.ipynb\" target=\"_parent\"><img src=\"https://colab.research.google.com/assets/colab-badge.svg\" alt=\"Open In Colab\"/></a>"
      ]
    },
    {
      "cell_type": "markdown",
      "metadata": {
        "id": "8ZmASnzE4maa"
      },
      "source": [
        "## 1er Parcial - Simulación Computacional 2020-I\n",
        "Santiago Roncancio 160003741"
      ]
    },
    {
      "cell_type": "code",
      "metadata": {
        "id": "I0kgLRHKJEig"
      },
      "source": [
        "import numpy as np\n",
        "import scipy as sp\n",
        "from sympy import *\n",
        "import math\n",
        "import time\n",
        "from random import random"
      ],
      "execution_count": null,
      "outputs": []
    },
    {
      "cell_type": "code",
      "metadata": {
        "id": "Uw6J71f7EeGE"
      },
      "source": [
        "def genranN(a,b,m,x0,N):\n",
        "    xant = x0\n",
        "    U=[]\n",
        "    for i in range(0, N):\n",
        "        xsig = (a*xant + b) % m\n",
        "        usig = xsig / m\n",
        "        U.append(usig)\n",
        "        xant = xsig\n",
        "        \n",
        "    print(\"i\\t U\")\n",
        "    for i in range(0,N):\n",
        "      print(i+1,\"\\t\",U[i])\n",
        "\n",
        "def rCiclo(a,b,m,x0,N):\n",
        "  xant = x0\n",
        "  X=[]\n",
        "  for i in range(0, N):\n",
        "    xsig = (a*xant + b) % m\n",
        "    X.append(xsig)\n",
        "    xant = xsig\n",
        "        \n",
        "  ciclo = X\n",
        "\n",
        "  aux = ciclo[0]\n",
        "  tmp=0\n",
        "  for i in range(1, len(ciclo)):\n",
        "    if aux==ciclo[i]:\n",
        "      tmp = i\n",
        "      break\n",
        "  return tmp"
      ],
      "execution_count": null,
      "outputs": []
    },
    {
      "cell_type": "markdown",
      "metadata": {
        "id": "SzFIvgaS_4qX"
      },
      "source": [
        "## 1.  (1.0 punto)\n",
        "Para los siguientes generadores congruenciales mixtos encuentre $u_1,...,u_{100}$ y el tamaño del ciclo (si lo tiene)\n",
        "\n",
        "**a)** $x_0=93, x_n = (14x_{n-1}+9) \\mod 127$\n"
      ]
    },
    {
      "cell_type": "code",
      "metadata": {
        "id": "Iwv2_dxlA4au",
        "outputId": "990f0bcf-7778-4e69-bd25-51e12ee74f9a",
        "colab": {
          "base_uri": "https://localhost:8080/",
          "height": 1000
        }
      },
      "source": [
        "x0=93\n",
        "a=14\n",
        "b=9\n",
        "m=127\n",
        "N=100\n",
        "genranN(a,b,m,x0,N)\n",
        "tam_ciclo = rCiclo(a,b,m,x0,N)\n",
        "if tam_ciclo==0:\n",
        "  print(\"El ciclo no tiene tamaño\")\n",
        "else:\n",
        "  print(\"El ciclo es \"+str(tam_ciclo))"
      ],
      "execution_count": null,
      "outputs": [
        {
          "output_type": "stream",
          "text": [
            "i\t U\n",
            "1 \t 0.3228346456692913\n",
            "2 \t 0.5905511811023622\n",
            "3 \t 0.33858267716535434\n",
            "4 \t 0.8110236220472441\n",
            "5 \t 0.4251968503937008\n",
            "6 \t 0.023622047244094488\n",
            "7 \t 0.4015748031496063\n",
            "8 \t 0.6929133858267716\n",
            "9 \t 0.7716535433070866\n",
            "10 \t 0.8740157480314961\n",
            "11 \t 0.30708661417322836\n",
            "12 \t 0.3700787401574803\n",
            "13 \t 0.25196850393700787\n",
            "14 \t 0.5984251968503937\n",
            "15 \t 0.44881889763779526\n",
            "16 \t 0.3543307086614173\n",
            "17 \t 0.031496062992125984\n",
            "18 \t 0.5118110236220472\n",
            "19 \t 0.23622047244094488\n",
            "20 \t 0.3779527559055118\n",
            "21 \t 0.36220472440944884\n",
            "22 \t 0.14173228346456693\n",
            "23 \t 0.05511811023622047\n",
            "24 \t 0.84251968503937\n",
            "25 \t 0.8661417322834646\n",
            "26 \t 0.1968503937007874\n",
            "27 \t 0.8267716535433071\n",
            "28 \t 0.6456692913385826\n",
            "29 \t 0.11023622047244094\n",
            "30 \t 0.6141732283464567\n",
            "31 \t 0.6692913385826772\n",
            "32 \t 0.4409448818897638\n",
            "33 \t 0.2440944881889764\n",
            "34 \t 0.4881889763779528\n",
            "35 \t 0.905511811023622\n",
            "36 \t 0.7480314960629921\n",
            "37 \t 0.5433070866141733\n",
            "38 \t 0.6771653543307087\n",
            "39 \t 0.5511811023622047\n",
            "40 \t 0.7874015748031497\n",
            "41 \t 0.09448818897637795\n",
            "42 \t 0.3937007874015748\n",
            "43 \t 0.5826771653543307\n",
            "44 \t 0.2283464566929134\n",
            "45 \t 0.2677165354330709\n",
            "46 \t 0.8188976377952756\n",
            "47 \t 0.5354330708661418\n",
            "48 \t 0.5669291338582677\n",
            "49 \t 0.007874015748031496\n",
            "50 \t 0.18110236220472442\n",
            "51 \t 0.6062992125984252\n",
            "52 \t 0.5590551181102362\n",
            "53 \t 0.8976377952755905\n",
            "54 \t 0.6377952755905512\n",
            "55 \t 0.0\n",
            "56 \t 0.07086614173228346\n",
            "57 \t 0.06299212598425197\n",
            "58 \t 0.952755905511811\n",
            "59 \t 0.4094488188976378\n",
            "60 \t 0.8031496062992126\n",
            "61 \t 0.31496062992125984\n",
            "62 \t 0.48031496062992124\n",
            "63 \t 0.7952755905511811\n",
            "64 \t 0.2047244094488189\n",
            "65 \t 0.937007874015748\n",
            "66 \t 0.1889763779527559\n",
            "67 \t 0.7165354330708661\n",
            "68 \t 0.10236220472440945\n",
            "69 \t 0.5039370078740157\n",
            "70 \t 0.12598425196850394\n",
            "71 \t 0.8346456692913385\n",
            "72 \t 0.7559055118110236\n",
            "73 \t 0.6535433070866141\n",
            "74 \t 0.2204724409448819\n",
            "75 \t 0.15748031496062992\n",
            "76 \t 0.2755905511811024\n",
            "77 \t 0.9291338582677166\n",
            "78 \t 0.07874015748031496\n",
            "79 \t 0.1732283464566929\n",
            "80 \t 0.49606299212598426\n",
            "81 \t 0.015748031496062992\n",
            "82 \t 0.29133858267716534\n",
            "83 \t 0.14960629921259844\n",
            "84 \t 0.16535433070866143\n",
            "85 \t 0.3858267716535433\n",
            "86 \t 0.47244094488188976\n",
            "87 \t 0.6850393700787402\n",
            "88 \t 0.6614173228346457\n",
            "89 \t 0.33070866141732286\n",
            "90 \t 0.7007874015748031\n",
            "91 \t 0.8818897637795275\n",
            "92 \t 0.41732283464566927\n",
            "93 \t 0.9133858267716536\n",
            "94 \t 0.8582677165354331\n",
            "95 \t 0.08661417322834646\n",
            "96 \t 0.28346456692913385\n",
            "97 \t 0.03937007874015748\n",
            "98 \t 0.6220472440944882\n",
            "99 \t 0.7795275590551181\n",
            "100 \t 0.984251968503937\n",
            "El ciclo no tiene tamaño\n"
          ],
          "name": "stdout"
        }
      ]
    },
    {
      "cell_type": "markdown",
      "metadata": {
        "id": "YJ9uMhemA48M"
      },
      "source": [
        "**b)** $x_0=123, x_n = (191x_{n-1}) \\mod 3173$"
      ]
    },
    {
      "cell_type": "code",
      "metadata": {
        "id": "MQQMwNdRA9hX",
        "outputId": "e3540131-6341-40ce-f373-221717cee068",
        "colab": {
          "base_uri": "https://localhost:8080/",
          "height": 1000
        }
      },
      "source": [
        "x0=123\n",
        "a=191\n",
        "b=0\n",
        "m=3173\n",
        "N=100\n",
        "genranN(a,b,m,x0,N)\n",
        "tam_ciclo = rCiclo(a,b,m,x0,N)\n",
        "if tam_ciclo==0:\n",
        "  print(\"El ciclo no tiene tamaño\")\n",
        "else:\n",
        "  print(\"El ciclo es \"+str(tam_ciclo))"
      ],
      "execution_count": null,
      "outputs": [
        {
          "output_type": "stream",
          "text": [
            "i\t U\n",
            "1 \t 0.40403403718878034\n",
            "2 \t 0.1705011030570438\n",
            "3 \t 0.5657106838953672\n",
            "4 \t 0.05074062401512764\n",
            "5 \t 0.6914591868893791\n",
            "6 \t 0.06870469587141506\n",
            "7 \t 0.12259691144027735\n",
            "8 \t 0.41601008509297194\n",
            "9 \t 0.4579262527576426\n",
            "10 \t 0.4639142767097384\n",
            "11 \t 0.6076268515600378\n",
            "12 \t 0.05672864796722345\n",
            "13 \t 0.8351717617396786\n",
            "14 \t 0.5178064922786006\n",
            "15 \t 0.9010400252127324\n",
            "16 \t 0.0986448156318941\n",
            "17 \t 0.8411597856917743\n",
            "18 \t 0.6615190671289001\n",
            "19 \t 0.3501418216199181\n",
            "20 \t 0.8770879294043492\n",
            "21 \t 0.5237945162306965\n",
            "22 \t 0.04475260006303183\n",
            "23 \t 0.5477466120390797\n",
            "24 \t 0.6196028994642294\n",
            "25 \t 0.3441537976678222\n",
            "26 \t 0.7333753545540498\n",
            "27 \t 0.07469271982351088\n",
            "28 \t 0.2663094862905767\n",
            "29 \t 0.8651118815001576\n",
            "30 \t 0.2363693665300977\n",
            "31 \t 0.14654900724866057\n",
            "32 \t 0.9908603844941696\n",
            "33 \t 0.2543334383863851\n",
            "34 \t 0.5776867317995588\n",
            "35 \t 0.3381657737157264\n",
            "36 \t 0.5896627797037504\n",
            "37 \t 0.6255909234163253\n",
            "38 \t 0.48786637251812165\n",
            "39 \t 0.18247715096123543\n",
            "40 \t 0.853135833595966\n",
            "41 \t 0.9489442168294989\n",
            "42 \t 0.2483454144342893\n",
            "43 \t 0.4339741569492594\n",
            "44 \t 0.8890639773085408\n",
            "45 \t 0.8112196659312954\n",
            "46 \t 0.9429561928774031\n",
            "47 \t 0.10463283958398992\n",
            "48 \t 0.9848723605420737\n",
            "49 \t 0.11062086353608572\n",
            "50 \t 0.12858493539237315\n",
            "51 \t 0.5597226599432713\n",
            "52 \t 0.9070280491648283\n",
            "53 \t 0.2423573904821935\n",
            "54 \t 0.29026158209895997\n",
            "55 \t 0.4399621809013552\n",
            "56 \t 0.03277655215884021\n",
            "57 \t 0.2603214623384809\n",
            "58 \t 0.7213993066498582\n",
            "59 \t 0.787267570122912\n",
            "60 \t 0.3681058934762055\n",
            "61 \t 0.3082256539552474\n",
            "62 \t 0.8710999054522534\n",
            "63 \t 0.3800819413803971\n",
            "64 \t 0.5956508036558462\n",
            "65 \t 0.7693034982666247\n",
            "66 \t 0.9369681689253073\n",
            "67 \t 0.9609202647336905\n",
            "68 \t 0.5357705641348881\n",
            "69 \t 0.3321777497636306\n",
            "70 \t 0.445950204853451\n",
            "71 \t 0.17648912700913963\n",
            "72 \t 0.7094232587456666\n",
            "73 \t 0.49984242042231325\n",
            "74 \t 0.46990230066183425\n",
            "75 \t 0.7513394264103372\n",
            "76 \t 0.505830444374409\n",
            "77 \t 0.6136148755121337\n",
            "78 \t 0.20044122281752286\n",
            "79 \t 0.28427355814686417\n",
            "80 \t 0.29624960605105577\n",
            "81 \t 0.5836747557516546\n",
            "82 \t 0.48187834856602585\n",
            "83 \t 0.03876457611093602\n",
            "84 \t 0.40403403718878034\n",
            "85 \t 0.1705011030570438\n",
            "86 \t 0.5657106838953672\n",
            "87 \t 0.05074062401512764\n",
            "88 \t 0.6914591868893791\n",
            "89 \t 0.06870469587141506\n",
            "90 \t 0.12259691144027735\n",
            "91 \t 0.41601008509297194\n",
            "92 \t 0.4579262527576426\n",
            "93 \t 0.4639142767097384\n",
            "94 \t 0.6076268515600378\n",
            "95 \t 0.05672864796722345\n",
            "96 \t 0.8351717617396786\n",
            "97 \t 0.5178064922786006\n",
            "98 \t 0.9010400252127324\n",
            "99 \t 0.0986448156318941\n",
            "100 \t 0.8411597856917743\n",
            "El ciclo es 83\n"
          ],
          "name": "stdout"
        }
      ]
    },
    {
      "cell_type": "markdown",
      "metadata": {
        "id": "t7BKvhEPA91k"
      },
      "source": [
        "**c)** $x_0=7, x_n = (5x_{n-1}+3) \\mod 33$"
      ]
    },
    {
      "cell_type": "code",
      "metadata": {
        "id": "j4tMo8eFA-fo",
        "outputId": "66419002-25b1-42d2-91ec-56c2889ec386",
        "colab": {
          "base_uri": "https://localhost:8080/",
          "height": 1000
        }
      },
      "source": [
        "x0=7\n",
        "a=5\n",
        "b=3\n",
        "m=33\n",
        "N=100\n",
        "genranN(a,b,m,x0,N)\n",
        "tam_ciclo = rCiclo(a,b,m,x0,N)\n",
        "if tam_ciclo==0:\n",
        "  print(\"El ciclo no tiene tamaño\")\n",
        "else:\n",
        "  print(\"El ciclo es \"+str(tam_ciclo))"
      ],
      "execution_count": null,
      "outputs": [
        {
          "output_type": "stream",
          "text": [
            "i\t U\n",
            "1 \t 0.15151515151515152\n",
            "2 \t 0.8484848484848485\n",
            "3 \t 0.3333333333333333\n",
            "4 \t 0.7575757575757576\n",
            "5 \t 0.8787878787878788\n",
            "6 \t 0.48484848484848486\n",
            "7 \t 0.5151515151515151\n",
            "8 \t 0.6666666666666666\n",
            "9 \t 0.42424242424242425\n",
            "10 \t 0.21212121212121213\n",
            "11 \t 0.15151515151515152\n",
            "12 \t 0.8484848484848485\n",
            "13 \t 0.3333333333333333\n",
            "14 \t 0.7575757575757576\n",
            "15 \t 0.8787878787878788\n",
            "16 \t 0.48484848484848486\n",
            "17 \t 0.5151515151515151\n",
            "18 \t 0.6666666666666666\n",
            "19 \t 0.42424242424242425\n",
            "20 \t 0.21212121212121213\n",
            "21 \t 0.15151515151515152\n",
            "22 \t 0.8484848484848485\n",
            "23 \t 0.3333333333333333\n",
            "24 \t 0.7575757575757576\n",
            "25 \t 0.8787878787878788\n",
            "26 \t 0.48484848484848486\n",
            "27 \t 0.5151515151515151\n",
            "28 \t 0.6666666666666666\n",
            "29 \t 0.42424242424242425\n",
            "30 \t 0.21212121212121213\n",
            "31 \t 0.15151515151515152\n",
            "32 \t 0.8484848484848485\n",
            "33 \t 0.3333333333333333\n",
            "34 \t 0.7575757575757576\n",
            "35 \t 0.8787878787878788\n",
            "36 \t 0.48484848484848486\n",
            "37 \t 0.5151515151515151\n",
            "38 \t 0.6666666666666666\n",
            "39 \t 0.42424242424242425\n",
            "40 \t 0.21212121212121213\n",
            "41 \t 0.15151515151515152\n",
            "42 \t 0.8484848484848485\n",
            "43 \t 0.3333333333333333\n",
            "44 \t 0.7575757575757576\n",
            "45 \t 0.8787878787878788\n",
            "46 \t 0.48484848484848486\n",
            "47 \t 0.5151515151515151\n",
            "48 \t 0.6666666666666666\n",
            "49 \t 0.42424242424242425\n",
            "50 \t 0.21212121212121213\n",
            "51 \t 0.15151515151515152\n",
            "52 \t 0.8484848484848485\n",
            "53 \t 0.3333333333333333\n",
            "54 \t 0.7575757575757576\n",
            "55 \t 0.8787878787878788\n",
            "56 \t 0.48484848484848486\n",
            "57 \t 0.5151515151515151\n",
            "58 \t 0.6666666666666666\n",
            "59 \t 0.42424242424242425\n",
            "60 \t 0.21212121212121213\n",
            "61 \t 0.15151515151515152\n",
            "62 \t 0.8484848484848485\n",
            "63 \t 0.3333333333333333\n",
            "64 \t 0.7575757575757576\n",
            "65 \t 0.8787878787878788\n",
            "66 \t 0.48484848484848486\n",
            "67 \t 0.5151515151515151\n",
            "68 \t 0.6666666666666666\n",
            "69 \t 0.42424242424242425\n",
            "70 \t 0.21212121212121213\n",
            "71 \t 0.15151515151515152\n",
            "72 \t 0.8484848484848485\n",
            "73 \t 0.3333333333333333\n",
            "74 \t 0.7575757575757576\n",
            "75 \t 0.8787878787878788\n",
            "76 \t 0.48484848484848486\n",
            "77 \t 0.5151515151515151\n",
            "78 \t 0.6666666666666666\n",
            "79 \t 0.42424242424242425\n",
            "80 \t 0.21212121212121213\n",
            "81 \t 0.15151515151515152\n",
            "82 \t 0.8484848484848485\n",
            "83 \t 0.3333333333333333\n",
            "84 \t 0.7575757575757576\n",
            "85 \t 0.8787878787878788\n",
            "86 \t 0.48484848484848486\n",
            "87 \t 0.5151515151515151\n",
            "88 \t 0.6666666666666666\n",
            "89 \t 0.42424242424242425\n",
            "90 \t 0.21212121212121213\n",
            "91 \t 0.15151515151515152\n",
            "92 \t 0.8484848484848485\n",
            "93 \t 0.3333333333333333\n",
            "94 \t 0.7575757575757576\n",
            "95 \t 0.8787878787878788\n",
            "96 \t 0.48484848484848486\n",
            "97 \t 0.5151515151515151\n",
            "98 \t 0.6666666666666666\n",
            "99 \t 0.42424242424242425\n",
            "100 \t 0.21212121212121213\n",
            "El ciclo es 10\n"
          ],
          "name": "stdout"
        }
      ]
    },
    {
      "cell_type": "markdown",
      "metadata": {
        "id": "EmgsDNW85jnA"
      },
      "source": [
        "## 2.  (1.0 punto)\n",
        "Calcule el estadístico $\\chi^2$ para los siguientes generadores congruenciales mixtos a partir de la generación de $1000$ los valores pseudoaleatorios uniformes de $U(0,1)$: $u_1,...,u_{1000}$, para un $k=101$.\n",
        "\n",
        "**a)** $x_0=1791, x_n = (65539x_{n-1}) \\mod {2^{31}}$\n",
        "\n"
      ]
    },
    {
      "cell_type": "code",
      "metadata": {
        "id": "Ax07H1jUPeBb",
        "outputId": "453a828e-6a34-4a09-cfbb-13284a1afee0",
        "colab": {
          "base_uri": "https://localhost:8080/",
          "height": 300
        }
      },
      "source": [
        "x0=1791\n",
        "a=65539\n",
        "b=0\n",
        "m=2**31\n",
        "N=100\n",
        "\n",
        "def genranN2(a,b,m,x0,N):\n",
        "    xant = x0\n",
        "    U=[]\n",
        "    for i in range(0, N):\n",
        "        xsig = (a*xant + b) % m\n",
        "        usig = xsig / m\n",
        "        U.append(usig)\n",
        "        xant = xsig\n",
        "    return U\n",
        "\n",
        "U = genranN2(a,b,m,x0,N)\n",
        "k=101\n",
        "count, bins, ignored = plt.hist(U, k)\n",
        "plt.plot(bins, np.ones_like(bins)*(N/k), linewidth=2, color='r')\n",
        "plt.show()\n",
        "\n",
        "chiest=0\n",
        "for i in range(0,k):\n",
        "    chiest = chiest + ((count[i]-(N/k))**2)/(N/k)\n",
        "print(\"Estadístico chi2 = \"+str(chiest))\n",
        "\n",
        "chisq, pvalue = stats.chisquare(count, f_exp=np.ones_like(count)*(N/k))\n",
        "print(chisq)"
      ],
      "execution_count": null,
      "outputs": [
        {
          "output_type": "display_data",
          "data": {
            "image/png": "[encoded data removed]",
            "text/plain": [
              "<Figure size 432x288 with 1 Axes>"
            ]
          },
          "metadata": {
            "tags": [],
            "needs_background": "light"
          }
        },
        {
          "output_type": "stream",
          "text": [
            "Estadístico chi2 = 104.02000000000005\n",
            "104.02000000000001\n"
          ],
          "name": "stdout"
        }
      ]
    },
    {
      "cell_type": "code",
      "metadata": {
        "id": "BDe4A3eOTgoE",
        "outputId": "99d9b66b-8931-408d-9978-8deac3fd2841",
        "colab": {
          "base_uri": "https://localhost:8080/",
          "height": 300
        }
      },
      "source": [
        "x0=1791\n",
        "a=65539\n",
        "b=0\n",
        "m=(2**31)\n",
        "N=1000\n",
        "\n",
        "def genranN2(a,b,m,x0,N):\n",
        "    xant = x0\n",
        "    U=[]\n",
        "    for i in range(0, N):\n",
        "        xsig = (a*xant + b) % m\n",
        "        usig = xsig / m\n",
        "        U.append(usig)\n",
        "        xant = xsig\n",
        "    return U\n",
        "\n",
        "U = genranN2(a,b,m,x0,N)\n",
        "k=101\n",
        "count, bins, ignored = plt.hist(U, k)\n",
        "plt.plot(bins, np.ones_like(bins)*(N/k), linewidth=2, color='r')\n",
        "plt.show()\n",
        "\n",
        "chiest=0\n",
        "for i in range(0,k):\n",
        "    chiest = chiest + ((count[i]-(N/k))**2)/(N/k)\n",
        "print(\"Estadístico chi2 = \"+str(chiest))\n",
        "\n",
        "chisq, pvalue = stats.chisquare(count, f_exp=np.ones_like(count)*(N/k))\n",
        "print(chisq)"
      ],
      "execution_count": null,
      "outputs": [
        {
          "output_type": "display_data",
          "data": {
            "image/png": "[encoded data removed]",
            "text/plain": [
              "<Figure size 432x288 with 1 Axes>"
            ]
          },
          "metadata": {
            "tags": [],
            "needs_background": "light"
          }
        },
        {
          "output_type": "stream",
          "text": [
            "Estadístico chi2 = 97.66799999999996\n",
            "97.668\n"
          ],
          "name": "stdout"
        }
      ]
    },
    {
      "cell_type": "markdown",
      "metadata": {
        "id": "hFkasb9JThNF"
      },
      "source": [
        "**b)** $x_0=6773, x_n = (75x_{n-1}) \\mod {2^{16} + 1}$"
      ]
    },
    {
      "cell_type": "code",
      "metadata": {
        "id": "1aT02saFTiwK",
        "outputId": "a83e0e3d-4f28-400f-cfdb-730fdb332614",
        "colab": {
          "base_uri": "https://localhost:8080/",
          "height": 300
        }
      },
      "source": [
        "x0=6773\n",
        "a=75\n",
        "b=0\n",
        "m=(2**16)+1\n",
        "N=1000\n",
        "\n",
        "def genranN2(a,b,m,x0,N):\n",
        "    xant = x0\n",
        "    U=[]\n",
        "    for i in range(0, N):\n",
        "        xsig = (a*xant + b) % m\n",
        "        usig = xsig / m\n",
        "        U.append(usig)\n",
        "        xant = xsig\n",
        "    return U\n",
        "\n",
        "U = genranN2(a,b,m,x0,N)\n",
        "k=101\n",
        "count, bins, ignored = plt.hist(U, k)\n",
        "plt.plot(bins, np.ones_like(bins)*(N/k), linewidth=2, color='r')\n",
        "plt.show()\n",
        "\n",
        "chiest=0\n",
        "for i in range(0,k):\n",
        "    chiest = chiest + ((count[i]-(N/k))**2)/(N/k)\n",
        "print(\"Estadístico chi2 = \"+str(chiest))\n",
        "\n",
        "chisq, pvalue = stats.chisquare(count, f_exp=np.ones_like(count)*(N/k))\n",
        "print(chisq)"
      ],
      "execution_count": null,
      "outputs": [
        {
          "output_type": "display_data",
          "data": {
            "image/png": "[encoded data removed]",
            "text/plain": [
              "<Figure size 432x288 with 1 Axes>"
            ]
          },
          "metadata": {
            "tags": [],
            "needs_background": "light"
          }
        },
        {
          "output_type": "stream",
          "text": [
            "Estadístico chi2 = 87.56800000000001\n",
            "87.568\n"
          ],
          "name": "stdout"
        }
      ]
    },
    {
      "cell_type": "markdown",
      "metadata": {
        "id": "Wxzu0PlKTjE8"
      },
      "source": [
        "**c)** $x_0=179, x_n = (5x_{n-1}+7) \\mod 200$"
      ]
    },
    {
      "cell_type": "code",
      "metadata": {
        "id": "MUDytp0cTlBa",
        "outputId": "a9353c63-ab3b-4aad-bea5-bc2712a38825",
        "colab": {
          "base_uri": "https://localhost:8080/",
          "height": 300
        }
      },
      "source": [
        "x0=179\n",
        "a=5\n",
        "b=7\n",
        "m=200\n",
        "N=1000\n",
        "\n",
        "def genranN2(a,b,m,x0,N):\n",
        "    xant = x0\n",
        "    U=[]\n",
        "    for i in range(0, N):\n",
        "        xsig = (a*xant + b) % m\n",
        "        usig = xsig / m\n",
        "        U.append(usig)\n",
        "        xant = xsig\n",
        "    return U\n",
        "\n",
        "U = genranN2(a,b,m,x0,N)\n",
        "k=101\n",
        "count, bins, ignored = plt.hist(U, k)\n",
        "plt.plot(bins, np.ones_like(bins)*(N/k), linewidth=2, color='r')\n",
        "plt.show()\n",
        "\n",
        "chiest=0\n",
        "for i in range(0,k):\n",
        "    chiest = chiest + ((count[i]-(N/k))**2)/(N/k)\n",
        "print(\"Estadístico chi2 = \"+str(chiest))\n",
        "\n",
        "chisq, pvalue = stats.chisquare(count, f_exp=np.ones_like(count)*(N/k))\n",
        "print(chisq)"
      ],
      "execution_count": null,
      "outputs": [
        {
          "output_type": "display_data",
          "data": {
            "image/png": "[encoded data removed]",
            "text/plain": [
              "<Figure size 432x288 with 1 Axes>"
            ]
          },
          "metadata": {
            "tags": [],
            "needs_background": "light"
          }
        },
        {
          "output_type": "stream",
          "text": [
            "Estadístico chi2 = 11599.951999999974\n",
            "11599.952000000001\n"
          ],
          "name": "stdout"
        }
      ]
    },
    {
      "cell_type": "markdown",
      "metadata": {
        "id": "TCRSM7MW6dM-"
      },
      "source": [
        "## 3.  (1.0 punto)\n",
        "Implemente un sistema de cola simple de clientes atendidos por un cajero de un banco, similar al ejemplo de simulación Ad Hoc del Taller 0 o el punto 10 del Taller 1, generando las variables aleatorias discretas tanto del número de minutos entre las llegadas de un cliente y otro al banco ($X$), así como del numero de minutos que le toma al cajero atender un cliente ($Y$) para un total de **200 clientes**, donde: <br><br>\n",
        "$X$ es una distribución de Poisson con $\\lambda = 10$<br>\n",
        "$Y$ es una distribución de probabilidad discreta así:<br>\n",
        "$Y = [1, 2, 3, 4, 5, 6, 7, 8, 9, 10, 11, 12, 13, 14, 15]$<br>\n",
        "$p(Y) = [0.01, 0.02, 0.02, 0.02, 0.02, 0.025, 0.03, 0.05, 0.08, 0.09, 0.11, 0.15, 0.2, 0.125, 0.05]$<br><br>\n",
        "\n",
        "Calcular:<br>\n",
        "**a)** Tiempo promedio en el sistema<br>\n",
        "**b)** Porcentaje de tiempo libre del servidor<br>\n",
        "**c)** Promedio de tiempo de espera por cliente<br>\n",
        "**d)** Fracción de clientes que estuvieron esperando<br>\n",
        "**e)** Promedio de tiempo de espera de los clientes que esperaron en cola<br>"
      ]
    },
    {
      "cell_type": "code",
      "metadata": {
        "id": "4IOxlexH4d5V",
        "outputId": "2b6de0a8-2df4-48a2-e02c-ade628e27f4a",
        "colab": {
          "base_uri": "https://localhost:8080/",
          "height": 106
        }
      },
      "source": [
        "import numpy as np\n",
        "\n",
        "def genranN(a,b,m,x0,N):\n",
        "    xant = x0\n",
        "    U=[]\n",
        "    for i in range(0, N):\n",
        "        xsig = (a*xant + b) % m\n",
        "        usig = xsig / m\n",
        "        U.append(usig)\n",
        "        xant = xsig\n",
        "    return [U]\n",
        "\n",
        "def genpoisson(U,L):\n",
        "    i=0\n",
        "    px=np.exp(-L)\n",
        "    Fx=px\n",
        "\n",
        "    while True:\n",
        "      if U < Fx:\n",
        "        Xi = i\n",
        "        return Xi\n",
        "        break\n",
        "      px = (L*px)/(i+1)\n",
        "      Fx = Fx + px\n",
        "      i = i + 1\n",
        "\n",
        "def genpoissonN(Ui,L,N):\n",
        "  X=[]\n",
        "  for i in range(0,len(Ui)):\n",
        "      xi = genpoisson(Ui[i],L)\n",
        "      X.append(xi)\n",
        "  return X\n",
        "\n",
        "def genvardiscret(U,X,P):\n",
        "    V = []\n",
        "    for t in range(0, len(U)):\n",
        "        for t2 in range(0, len(X)):\n",
        "            if U[t]<=P[t2]:\n",
        "                V.append(X[t2])\n",
        "                break\n",
        "    return V\n",
        "\n",
        "#Numeros de clientes\n",
        "N=200\n",
        "#Tiempo entre llegadas Poisson Landa=10\n",
        "Ui = genranN(5,3,33,7,N)\n",
        "L = 10\n",
        "tel = genpoissonN(Ui[0],L,N)\n",
        "\n",
        "#Tiempo de servicio  con probabilidad discreta \n",
        "x0=1791\n",
        "a=65539\n",
        "b=0\n",
        "m=(2**31)\n",
        "N=200\n",
        "\n",
        "def genranN2(a,b,m,x0,N):\n",
        "    xant = x0\n",
        "    U=[]\n",
        "    for i in range(0, N):\n",
        "        xsig = (a*xant + b) % m\n",
        "        usig = xsig / m\n",
        "        U.append(usig)\n",
        "        xant = xsig\n",
        "    return U\n",
        "U = genranN2(a,b,m,x0,N**2)\n",
        "X = [1,2,3,4,5,6,7,8,9,10,11,12,13,14,15]\n",
        "P = [0.01, 0.02, 0.02, 0.02, 0.02, 0.025, 0.03, 0.05, 0.08, 0.09, 0.11, 0.15, 0.2, 0.125, 0.05]\n",
        "ts = genvardiscret(U,X,P)\n",
        "\n",
        "# Customer|TIme Between Arrivals|Arrival Time|Service Time| Service Begins|Time Service Ends|Time in System| Idle Time\t|Time in Queue\n",
        "timeB = 0\n",
        "serB=0\n",
        "timeS=0\n",
        "tel[0] = 0\n",
        "idlT=0\n",
        "idlTT=0\n",
        "timeQ=0\n",
        "timeQT=0\n",
        "timeQC=0\n",
        "# print(\"cus\\tTime B\\tArr T\\tServ T\\tServ B\\tTimeEnd\\tTimeSy\\tIdl T\\tTime Q\")\n",
        "for i in range(0, N):\n",
        "  timeB = timeB+tel[i]\n",
        "  serB = serB + tel[i]\n",
        "  if i>0:\n",
        "    idlT=serB-timeS\n",
        "    if idlT<0:\n",
        "      timeQ=-1*idlT\n",
        "      idlT=0\n",
        "      timeQT=timeQT+1\n",
        "    else:\n",
        "      timeQ=0\n",
        "      \n",
        "  serB=serB+timeQ\n",
        "  timeS = ts[i]+serB\n",
        "  timeSys=timeS-serB\n",
        "  \n",
        "  #print(i+1,\"\\t\",tel[i],\"\\t\",timeB,\"\\t\",ts[i],\"\\t\",serB,\"\\t\",timeS,\"\\t\",timeSys,\"\\t\",idlT,\"\\t\",timeQ)\n",
        "  idlTT=idlTT+idlT\n",
        "  timeQC=timeQC+timeQ\n",
        "\n",
        "#Calcular:<br>\n",
        "#**a)** Tiempo promedio en el sistema\n",
        "print(\"Tiempo promedio \"+str(timeSys/N))\n",
        "#**b)** Porcentaje de tiempo libre del servidor\n",
        "print(\"Porcentaje de tiempo libre del servidor \"+str((idlTT/timeS)*100))\n",
        "#**c)** Promedio de tiempo de espera por cliente\n",
        "print(\"Promedio de tiempo de espera por cliente \"+str(timeQT))\n",
        "#**d)** Fracción de clientes que estuvieron esperando\n",
        "print(\"Fracción de clientes que estuvieron esperando \"+str(timeQT/N))\n",
        "#**e)** Promedio de tiempo de espera de los clientes que esperaron en cola\n",
        "print(\"Promedio de tiempo de espera de los clientes que esperaron en cola \"+str(timeQC/timeQT))"
      ],
      "execution_count": null,
      "outputs": [
        {
          "output_type": "stream",
          "text": [
            "Tiempo promedio 0.06\n",
            "Porcentaje de tiempo libre del servidor 16.72384219554031\n",
            "Promedio de tiempo de espera por cliente 95\n",
            "Fracción de clientes que estuvieron esperando 0.475\n",
            "Promedio de tiempo de espera de los clientes que esperaron en cola 3.0210526315789474\n"
          ],
          "name": "stdout"
        }
      ]
    },
    {
      "cell_type": "markdown",
      "metadata": {
        "id": "aVbse_tu6SBN"
      },
      "source": [
        "\n",
        "## 4.  (1.0 punto)\n",
        "Tomando como base la implementación de un sistema de linea de espera con un servidor (<a href=\"https://colab.research.google.com/drive/1Ff8QcrO8vFyNp3BGU7JHHk9mWH9NO8HL?usp=sharing\">Notebook</a>), con las mismas semillas y generadores congruenciales, determine las medidas de desempeño si la variable aleatoria $Y$ correspondiente al tiempo de servicio se comporta como una distribución binomial con parámetros $n=20$ y $p=0.5$ "
      ]
    },
    {
      "cell_type": "code",
      "metadata": {
        "id": "JQRNZV5qBDke",
        "outputId": "08ee5a92-fbfd-4440-f588-3a86670ce4e2",
        "colab": {
          "base_uri": "https://localhost:8080/",
          "height": 106
        }
      },
      "source": [
        "import numpy as np\n",
        "\n",
        "def genranN(a,b,m,x0,N):\n",
        "    xant = x0\n",
        "    U=[]\n",
        "    for i in range(0, N):\n",
        "        xsig = (a*xant + b) % m\n",
        "        usig = xsig / m\n",
        "        U.append(usig)\n",
        "        xant = xsig\n",
        "    return [U]\n",
        "\n",
        "def genpoisson(U,L):\n",
        "    i=0\n",
        "    px=np.exp(-L)\n",
        "    Fx=px\n",
        "\n",
        "    while True:\n",
        "      if U < Fx:\n",
        "        Xi = i\n",
        "        return Xi\n",
        "        break\n",
        "      px = (L*px)/(i+1)\n",
        "      Fx = Fx + px\n",
        "      i = i + 1\n",
        "\n",
        "def genpoissonN(Ui,L,N):\n",
        "  X=[]\n",
        "  for i in range(0,len(Ui)):\n",
        "      xi = genpoisson(Ui[i],L)\n",
        "      X.append(xi)\n",
        "  return X\n",
        "\n",
        "def genbinomial(U,n,p):\n",
        "  c=p/(1-p)\n",
        "  i=0\n",
        "  px=np.power(1-p,n)\n",
        "  Fx=px\n",
        "\n",
        "  while True:\n",
        "    if U < Fx:\n",
        "      Xi = i\n",
        "      return Xi\n",
        "      break\n",
        "    px=(c*(n-i)/(i+1))*px \n",
        "    Fx = Fx + px\n",
        "    i = i + 1\n",
        "\n",
        "def genbinomialN(Ui,n,p,N):\n",
        "  X=[]\n",
        "  for i in range(0,len(Ui)):\n",
        "      xi = genbinomial(Ui[i],n,p)\n",
        "      X.append(xi)\n",
        "  return X\n",
        "\n",
        "N=200\n",
        "#Tiempo entre llegadas Poisson Landa=5Y\n",
        "Ui = genranN(5,3,33,7,N)\n",
        "L = 10\n",
        "tel = genpoissonN(Ui[0],L,N)\n",
        "\n",
        "#Tiempo de servicio Binomial n=20 y p=0.5\n",
        "Ui2 = genranN(7,3,16,9,N)\n",
        "n=20\n",
        "p=0.5\n",
        "ts = genbinomialN(Ui2[0],n,p,N)\n",
        "\n",
        "#Numeros de clientes\n",
        "N=200\n",
        "#Tiempo entre llegadas Poisson Landa=10\n",
        "Ui = genranN(5,3,33,7,N)\n",
        "L = 10\n",
        "tel = genpoissonN(Ui[0],L,N)\n",
        "\n",
        "# Customer|TIme Between Arrivals|Arrival Time|Service Time| Service Begins|Time Service Ends|Time in System| Idle Time\t|Time in Queue\n",
        "timeB = 0\n",
        "serB=0\n",
        "timeS=0\n",
        "tel[0] = 0\n",
        "idlT=0\n",
        "idlTT=0\n",
        "timeQ=0\n",
        "timeQT=0\n",
        "timeQC=0\n",
        "# print(\"cus\\tTime B\\tArr T\\tServ T\\tServ B\\tTimeEnd\\tTimeSy\\tIdl T\\tTime Q\")\n",
        "for i in range(0, N):\n",
        "  timeB = timeB+tel[i]\n",
        "  serB = serB + tel[i]\n",
        "  if i>0:\n",
        "    idlT=serB-timeS\n",
        "    if idlT<0:\n",
        "      timeQ=-1*idlT\n",
        "      idlT=0\n",
        "      timeQT=timeQT+1\n",
        "    else:\n",
        "      timeQ=0\n",
        "      \n",
        "  serB=serB+timeQ\n",
        "  timeS = ts[i]+serB\n",
        "  timeSys=timeS-serB\n",
        "  \n",
        "  #print(i+1,\"\\t\",tel[i],\"\\t\",timeB,\"\\t\",ts[i],\"\\t\",serB,\"\\t\",timeS,\"\\t\",timeSys,\"\\t\",idlT,\"\\t\",timeQ)\n",
        "  idlTT=idlTT+idlT\n",
        "  timeQC=timeQC+timeQ\n",
        "\n",
        "#Calcular:<br>\n",
        "#**a)** Tiempo promedio en el sistema\n",
        "print(\"Tiempo promedio \"+str(timeSys/N))\n",
        "#**b)** Porcentaje de tiempo libre del servidor\n",
        "print(\"Porcentaje de tiempo libre del servidor \"+str((idlTT/timeS)*100))\n",
        "#**c)** Promedio de tiempo de espera por cliente\n",
        "print(\"Promedio de tiempo de espera por cliente \"+str(timeQT))\n",
        "#**d)** Fracción de clientes que estuvieron esperando\n",
        "print(\"Fracción de clientes que estuvieron esperando \"+str(timeQT/N))\n",
        "#**e)** Promedio de tiempo de espera de los clientes que esperaron en cola\n",
        "print(\"Promedio de tiempo de espera de los clientes que esperaron en cola \"+str(timeQC/timeQT))"
      ],
      "execution_count": null,
      "outputs": [
        {
          "output_type": "stream",
          "text": [
            "Tiempo promedio 0.05\n",
            "Porcentaje de tiempo libre del servidor 18.22429906542056\n",
            "Promedio de tiempo de espera por cliente 49\n",
            "Fracción de clientes que estuvieron esperando 0.245\n",
            "Promedio de tiempo de espera de los clientes que esperaron en cola 1.9795918367346939\n"
          ],
          "name": "stdout"
        }
      ]
    },
    {
      "cell_type": "markdown",
      "metadata": {
        "id": "D6i0hqZH6NMW"
      },
      "source": [
        "## 5.  (1.0 punto)\n",
        "Usando el ejemplo de SimPy de abajo de una conferencia que incluye buffet (refrigerio) con un tiempo máximo de simulación de 4 horas (i.e. 240 minutos) modifique el código para:\n",
        "\n",
        "**a)** Implementar las medidas de desempeño de hambre promedio y conocimiento promedio.<br>\n",
        "**b)** Comparar y analizar los siguientes escenarios a partir de las medidas de desempeño implementadas indicando cual escenario es mejor:\n",
        "\n",
        "> 1. Duración de la charla 15 minutos, 4 charlas por sesión, 15 minutos de break, 2 puestos de buffet y 3 minutos por turno para comer en el buffet\n",
        "> 2. Duración de la charla 20 minutos, 4 charlas por sesión, 10 minutos de break, 2 puestos de buffet y 3 minutos por turno para comer en el buffet\n",
        "> 3. Duración de la charla 15 minutos, 4 charlas por sesión, 20 minutos de break, 1 puestos de buffet y 3 minutos por turno para comer en el buffet\n",
        "\n",
        "**c)** Implemente una configuración que garantice que el conocimiento promedio adquirido por los asistentes sea mayor de 3 y el hambre promedio sea menor a 2."
      ]
    },
    {
      "cell_type": "code",
      "metadata": {
        "id": "_5ZUQ92s6wQZ",
        "outputId": "247d1920-d70a-4eb5-a6d9-d2ed899866a5",
        "colab": {
          "base_uri": "https://localhost:8080/",
          "height": 88
        }
      },
      "source": [
        "!pip install simpy\n",
        "import simpy"
      ],
      "execution_count": null,
      "outputs": [
        {
          "output_type": "stream",
          "text": [
            "Collecting simpy\n",
            "  Downloading https://files.pythonhosted.org/packages/20/f9/874b0bab83406827db93292a5bbe5acb5c18e3cea665b2f6e053292cb687/simpy-4.0.1-py2.py3-none-any.whl\n",
            "Installing collected packages: simpy\n",
            "Successfully installed simpy-4.0.1\n"
          ],
          "name": "stdout"
        }
      ]
    },
    {
      "cell_type": "code",
      "metadata": {
        "id": "cnWJq7SO6j9e"
      },
      "source": [
        "from random import randint\n",
        "import simpy "
      ],
      "execution_count": null,
      "outputs": []
    },
    {
      "cell_type": "code",
      "metadata": {
        "id": "w1yIh5KG6l2B"
      },
      "source": [
        "TALKS_PER_SESSION = 3\n",
        "TALK_LENGTH = 30\n",
        "BREAK_LENGTH = 15\n",
        "DURATION_EAT = 3\n",
        "BUFFET_SLOTS = 2"
      ],
      "execution_count": null,
      "outputs": []
    },
    {
      "cell_type": "code",
      "metadata": {
        "id": "dsNLHwHW6nvh"
      },
      "source": [
        "def attendee(env, name, buffet, knowledge=0, hunger=0):\n",
        "  while True:\n",
        "    # Visit talks\n",
        "    for i in range(TALKS_PER_SESSION):\n",
        "      knowledge = knowledge + randint(0, 3) / (1 + hunger)\n",
        "      hunger = hunger + randint(1, 4)\n",
        "      yield env.timeout(TALK_LENGTH)\n",
        "    print('El asistente %s terminó las charlas con un conocimiento %.2f y hambre '\n",
        "    '%.2f.' % (name, knowledge, hunger))\n",
        "    # Go to buffet\n",
        "    start = env.now\n",
        "    with buffet.request() as req:\n",
        "      yield req | env.timeout(BREAK_LENGTH - DURATION_EAT)\n",
        "      time_left = BREAK_LENGTH - (env.now - start)\n",
        "      \n",
        "      if req.triggered:\n",
        "        food = min(randint(3, 12), time_left) # Less time -> less food\n",
        "        yield env.timeout(DURATION_EAT)\n",
        "        hunger -= min(food, hunger)\n",
        "        time_left -= DURATION_EAT\n",
        "        print('El asistente %s terminó de comer con hambre %.2f' %\n",
        "              (name, hunger))\n",
        "      else:\n",
        "        hunger += 1 # Penalty for only taking a look at all the food.\n",
        "        print('El asistente %s no llegó al buffet :( , el hambre es ahora '\n",
        "        'at %.2f.' % (name, hunger))\n",
        "    yield env.timeout(time_left)"
      ],
      "execution_count": null,
      "outputs": []
    },
    {
      "cell_type": "code",
      "metadata": {
        "id": "wQZQGTMn6pG2",
        "outputId": "e14e49a6-d8f5-4393-9990-778cf672874c",
        "colab": {
          "base_uri": "https://localhost:8080/",
          "height": 195
        }
      },
      "source": [
        "env = simpy.Environment()\n",
        "buffet = simpy.Resource(env, capacity=BUFFET_SLOTS)\n",
        "for i in range(5):\n",
        "  env.process(attendee(env, i, buffet))\n",
        "env.run(until=220)"
      ],
      "execution_count": null,
      "outputs": [
        {
          "output_type": "stream",
          "text": [
            "El asistente 0 terminó las charlas con un conocimiento 0.85 y hambre 5.00.\n",
            "El asistente 1 terminó las charlas con un conocimiento 1.00 y hambre 9.00.\n",
            "El asistente 2 terminó las charlas con un conocimiento 4.00 y hambre 7.00.\n",
            "El asistente 3 terminó las charlas con un conocimiento 1.33 y hambre 8.00.\n",
            "El asistente 4 terminó las charlas con un conocimiento 0.83 y hambre 6.00.\n",
            "El asistente 0 terminó de comer con hambre 1.00\n",
            "El asistente 1 terminó de comer con hambre 1.00\n",
            "El asistente 2 terminó de comer con hambre 1.00\n",
            "El asistente 3 terminó de comer con hambre 0.00\n",
            "El asistente 4 terminó de comer con hambre 2.00\n"
          ],
          "name": "stdout"
        }
      ]
    },
    {
      "cell_type": "code",
      "metadata": {
        "id": "9CGLBVxcflgD",
        "outputId": "290105e7-f96a-4bf4-f245-30a84105fbb1",
        "colab": {
          "base_uri": "https://localhost:8080/",
          "height": 239
        }
      },
      "source": [
        "##a) Implementar las medidas de desempeño de hambre promedio y conocimiento promedio.\n",
        "\n",
        "\n",
        "##b) Comparar y analizar los siguientes escenarios a partir de las medidas de desempeño implementadas indicando cual escenario es mejor:\n",
        "\n",
        "###Duración de la charla 15 minutos, 4 charlas por sesión, 15 minutos de break, 2 puestos de buffet y 3 minutos por turno para comer en el buffet\n",
        "###Duración de la charla 20 minutos, 4 charlas por sesión, 10 minutos de break, 2 puestos de buffet y 3 minutos por turno para comer en el buffet\n",
        "###Duración de la charla 15 minutos, 4 charlas por sesión, 20 minutos de break, 1 puestos de buffet y 3 minutos por turno para comer en el buffet\n",
        "\n",
        "\n",
        "##c) Implemente una configuración que garantice que el conocimiento promedio adquirido por los asistentes sea mayor de 3 y el hambre promedio sea menor a 2.\n",
        "TALKS_PER_SESSION = 1\n",
        "TALK_LENGTH = 1\n",
        "BREAK_LENGTH = 10\n",
        "DURATION_EAT = 10\n",
        "BUFFET_SLOTS = 5\n",
        "\n",
        "VecHambre = []\n",
        "VecConocimiento = []\n",
        "\n",
        "env = simpy.Environment()\n",
        "buffet = simpy.Resource(env, capacity=BUFFET_SLOTS)\n",
        "for i in range(5):\n",
        "  env.process(attendee(env, i, buffet))\n",
        "env.run(until=220)\n",
        "\n",
        "def promedio(H):\n",
        "  acum=0\n",
        "  for n in range(len(H)):\n",
        "    acum = acum+H[n]\n",
        "  return acum/(len(H))\n",
        "\n",
        "\n",
        "Hambre = promedio(VecHambre)\n",
        "Conocimiento = promedio(VecConocimiento)\n",
        "\n",
        "print(\"Hambre promedio: \",Hambre)\n",
        "print(\"Conocimiento promedio: \",Conocimiento)"
      ],
      "execution_count": null,
      "outputs": [
        {
          "output_type": "error",
          "ename": "NameError",
          "evalue": "ignored",
          "traceback": [
            "\u001b[0;31m---------------------------------------------------------------------------\u001b[0m",
            "\u001b[0;31mNameError\u001b[0m                                 Traceback (most recent call last)",
            "\u001b[0;32m<ipython-input-1-00febede2aa5>\u001b[0m in \u001b[0;36m<module>\u001b[0;34m()\u001b[0m\n\u001b[1;32m     19\u001b[0m \u001b[0mVecConocimiento\u001b[0m \u001b[0;34m=\u001b[0m \u001b[0;34m[\u001b[0m\u001b[0;34m]\u001b[0m\u001b[0;34m\u001b[0m\u001b[0;34m\u001b[0m\u001b[0m\n\u001b[1;32m     20\u001b[0m \u001b[0;34m\u001b[0m\u001b[0m\n\u001b[0;32m---> 21\u001b[0;31m \u001b[0menv\u001b[0m \u001b[0;34m=\u001b[0m \u001b[0msimpy\u001b[0m\u001b[0;34m.\u001b[0m\u001b[0mEnvironment\u001b[0m\u001b[0;34m(\u001b[0m\u001b[0;34m)\u001b[0m\u001b[0;34m\u001b[0m\u001b[0;34m\u001b[0m\u001b[0m\n\u001b[0m\u001b[1;32m     22\u001b[0m \u001b[0mbuffet\u001b[0m \u001b[0;34m=\u001b[0m \u001b[0msimpy\u001b[0m\u001b[0;34m.\u001b[0m\u001b[0mResource\u001b[0m\u001b[0;34m(\u001b[0m\u001b[0menv\u001b[0m\u001b[0;34m,\u001b[0m \u001b[0mcapacity\u001b[0m\u001b[0;34m=\u001b[0m\u001b[0mBUFFET_SLOTS\u001b[0m\u001b[0;34m)\u001b[0m\u001b[0;34m\u001b[0m\u001b[0;34m\u001b[0m\u001b[0m\n\u001b[1;32m     23\u001b[0m \u001b[0;32mfor\u001b[0m \u001b[0mi\u001b[0m \u001b[0;32min\u001b[0m \u001b[0mrange\u001b[0m\u001b[0;34m(\u001b[0m\u001b[0;36m5\u001b[0m\u001b[0;34m)\u001b[0m\u001b[0;34m:\u001b[0m\u001b[0;34m\u001b[0m\u001b[0;34m\u001b[0m\u001b[0m\n",
            "\u001b[0;31mNameError\u001b[0m: name 'simpy' is not defined"
          ]
        }
      ]
    }
  ]
}