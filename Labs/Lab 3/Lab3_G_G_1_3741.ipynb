{
  "nbformat": 4,
  "nbformat_minor": 0,
  "metadata": {
    "colab": {
      "name": "Lab3 - G/G/1-3741.ipynb",
      "provenance": [],
      "collapsed_sections": [],
      "include_colab_link": true
    },
    "kernelspec": {
      "name": "python3",
      "display_name": "Python 3"
    }
  },
  "cells": [
    {
      "cell_type": "markdown",
      "metadata": {
        "id": "view-in-github",
        "colab_type": "text"
      },
      "source": [
        "<a href=\"https://colab.research.google.com/github/santiagoroncancio/ComputationalSimulation/blob/master/Labs/Lab3/Lab3_G_G_1_3741.ipynb\" target=\"_parent\"><img src=\"https://colab.research.google.com/assets/colab-badge.svg\" alt=\"Open In Colab\"/></a>"
      ]
    },
    {
      "cell_type": "code",
      "metadata": {
        "id": "n6WB-0B7yetn"
      },
      "source": [
        "%matplotlib inline \n",
        "\n",
        "import numpy as np\n",
        "import math\n",
        "import random as rn"
      ],
      "execution_count": 93,
      "outputs": []
    },
    {
      "cell_type": "code",
      "metadata": {
        "id": "jKF3AqtzsNv8"
      },
      "source": [
        "tamXi = 10000\n",
        "res = []"
      ],
      "execution_count": 94,
      "outputs": []
    },
    {
      "cell_type": "code",
      "metadata": {
        "id": "wwtQtpzbynuA"
      },
      "source": [
        "def gencongru1(): \n",
        "    global Xant1\n",
        "    a = 134775813\n",
        "    c = 1\n",
        "    m = 2**32\n",
        "    Xnext = (a * Xant1 + c) % m\n",
        "    Xant1 = Xnext\n",
        "    U = Xnext / m\n",
        "    return U\n",
        "\n",
        "def gencongru2():\n",
        "    global Xant2\n",
        "    a = 1140671485\n",
        "    c = 12820163\n",
        "    m = 2**24\n",
        "    Xnext = (a * Xant2 + c) % m\n",
        "    Xant2 = Xnext\n",
        "    U = Xnext / m\n",
        "    return U\n",
        "\n",
        "def GenerarX():\n",
        "    vlambda = 3\n",
        "    U = gencongru1()\n",
        "    X = -(math.log(1-U))/float(vlambda)\n",
        "    return X\n",
        "\n",
        "def GenerarY():\n",
        "    vlambda = 7\n",
        "    U = gencongru2()\n",
        "    Y = -(math.log(1-U))/float(vlambda)\n",
        "    return Y\n",
        "\n",
        "def Llegada(tsuc):\n",
        "    global n, NLL, NS, t, S, Serv, LL, at, an\n",
        "    t=tsuc\n",
        "    n = n + 1\n",
        "    LLt.append(t)\n",
        "    at.append(t)\n",
        "    an.append(n)\n",
        "    \n",
        "    NLL = NLL + 1\n",
        "    LL.append(t)\n",
        "    \n",
        "    X = GenerarX()\n",
        "    \n",
        "    if (t+X) < T:\n",
        "        TSuc['tLL'] = t + X\n",
        "    if n==1:\n",
        "        Y = GenerarY()\n",
        "        TSuc['tS'] = t + Y\n",
        "        #Serv[NS]=Y \n",
        "        Serv.append(Y)\n",
        "\n",
        "def Servidor(tsuc):\n",
        "    global n, NLL, NS, t, S, Serv, LL, at, an\n",
        "    t = tsuc\n",
        "    n = n - 1\n",
        "    \n",
        "    St.append(t)\n",
        "    at.append(t)\n",
        "    an.append(n)\n",
        "    \n",
        "    NS = NS + 1\n",
        "    S.append(t)\n",
        "\n",
        "    if n>0:\n",
        "        Y = GenerarY()\n",
        "        TSuc['tS'] = t + Y\n",
        "        Serv.append(Y) "
      ],
      "execution_count": 95,
      "outputs": []
    },
    {
      "cell_type": "code",
      "metadata": {
        "id": "Qhm4LMcGwGNe"
      },
      "source": [
        "for i in range(tamXi):\n",
        "  Xant1 = rn.randrange(987654321)\n",
        "  Xant2 = rn.randrange(123987456)\n",
        "\n",
        "  M = 99999.0\n",
        "  T = 20.0\n",
        "  at = []\n",
        "  an = []\n",
        "  LLt = []\n",
        "  St = []\n",
        "\n",
        "  t = tsuc = NLL = NS = n = 0\n",
        "\n",
        "  at.append(t)\n",
        "  an.append(n)\n",
        "\n",
        "  TSuc = {\"tLL\":M, \"tS\":M}\n",
        "\n",
        "  LL = []\n",
        "  S = []\n",
        "  Serv = []\n",
        "  LL.append(0.0)\n",
        "  S.append(0.0)\n",
        "  Serv.append(0.0)\n",
        "\n",
        "  X = GenerarX()\n",
        "\n",
        "  if X > T:\n",
        "      Tp = t_med_sistema = t_med_cola = 0.0\n",
        "      exit\n",
        "  else:\n",
        "      Llegada(X)\n",
        "      while((TSuc['tLL'] != M)|(TSuc['tS']!=M)):\n",
        "          if TSuc['tLL'] < TSuc['tS']:\n",
        "              tsuc = TSuc['tLL']\n",
        "              TSuc['tLL'] = M\n",
        "              Llegada(tsuc)\n",
        "              \n",
        "          if TSuc['tS'] < TSuc['tLL']:\n",
        "              tsuc = TSuc['tS']\n",
        "              TSuc['tS'] = M\n",
        "              Servidor(tsuc)\n",
        "\n",
        "      Tp = max(0,t-T)\n",
        "      acumulo1 = acumulo2 = 0.0\n",
        "      ind = 0\n",
        "      \n",
        "      while ind < NLL:\n",
        "          acumulo1 = acumulo1 + S[ind] - LL[ind]\n",
        "          acumulo2 = acumulo2 + S[ind] - LL[ind] - Serv[ind]\n",
        "          ind = ind + 1\n",
        "      t_med_sistema = acumulo1/NLL\n",
        "      t_med_cola = acumulo2/NLL\n",
        "\n",
        "      exit\n",
        "\n",
        "  an = np.array(an)\n",
        "  \n",
        "  res.append([t_med_sistema, t_med_cola, Tp, max(an), NLL])\n",
        "\n",
        "  #print(\"Tiempo medio de los clientes en el sistema: \",t_med_sistema)\n",
        "  #print(\"Tiempo medio de los clientes en la cola: \",t_med_cola)\n",
        "  #print(\"Tiempo transcurrido desde T hasta que el último cliente abandona el sistema: \",Tp)\n",
        "  #print(\"Número máximo de clientes en el sistema: \",max(an))\n",
        "  #print(\"Total de clientes que pasaron por el sistema: \",NLL)"
      ],
      "execution_count": 96,
      "outputs": []
    },
    {
      "cell_type": "markdown",
      "metadata": {
        "id": "fPjbdBcJc24W"
      },
      "source": [
        "#Laboratorio 3\n",
        "Usando la implementación de ejemplo del sistema de línea de espera con un servidor (Modelo de colas G/G/1) en Notebook Jupyter, implementar:\n",
        "1. La medida de desempeño de tiempo promedio en fila de los clientes (Xi) para una corrida de simulación i .\n",
        "\n",
        "2. Implementar el método recursivo para calcular la media de la muestra y la varianza de la muestra.\n",
        "\n",
        "3. Calcular la media de la muestra (sample mean) y la varianza de la muestra (sample variance) para:\n",
        "  - k=100 simulaciones.\n",
        "  - k=1000 simulaciones.\n",
        "  - k=10000 simulaciones."
      ]
    },
    {
      "cell_type": "code",
      "metadata": {
        "id": "n6e5tWgoOSGP"
      },
      "source": [
        "#sample Mean \n",
        "def sampleMean(tam, lista):\n",
        "  listAux = []\n",
        "  for i in range(tam):\n",
        "    if i == 0 : \n",
        "      aux = lista[0][1]\n",
        "    else:\n",
        "      aux = listAux[i-1]+(lista[i][1]-listAux[i-1])/i\n",
        "    \n",
        "    listAux.append(aux)\n",
        "  return listAux\n",
        "\n",
        "#Sample Variance\n",
        "def sampleVariance(tam, lista, listMean):\n",
        "  listAux = []\n",
        "  for i in range(tam):\n",
        "    if i == 0:\n",
        "      aux = 0\n",
        "    else:\n",
        "      aux = (1-(1/i-1))*listAux[i-1] + i * (listMean[i] - listMean[i-1])**2\n",
        "\n",
        "    listAux.append(aux)\n",
        "  return listAux"
      ],
      "execution_count": 97,
      "outputs": []
    },
    {
      "cell_type": "code",
      "metadata": {
        "id": "kRubLV9GUDEV",
        "outputId": "a05e3822-9fe9-4198-a25b-1c7e3da6520c",
        "colab": {
          "base_uri": "https://localhost:8080/",
          "height": 67
        }
      },
      "source": [
        "k = 100\n",
        "listMean = sampleMean(k, res)\n",
        "listVariance = sampleVariance(k, res, listMean)\n",
        "\n",
        "print(\"K 100 --> Mean \",listMean[k-1],\" variance \",listVariance[k-1])\n",
        "\n",
        "k = 1000\n",
        "listMean = sampleMean(k, res)\n",
        "listVariance = sampleVariance(k, res, listMean)\n",
        "\n",
        "print(\"K 1000 --> Mean \",listMean[k-1],\" variance \",listVariance[k-1])\n",
        "\n",
        "k = 10000\n",
        "listMean = sampleMean(k, res)\n",
        "listVariance = sampleVariance(k, res, listMean)\n",
        "\n",
        "print(\"K 10000 --> Mean \",listMean[k-1],\" variance \",listVariance[k-1])"
      ],
      "execution_count": 98,
      "outputs": [
        {
          "output_type": "stream",
          "text": [
            "K 100 --> Mean  0.09770848175667567  variance  1.32204850181235e+26\n",
            "K 1000 --> Mean  0.09994521206071433  variance  3.5218621021993426e+296\n",
            "K 10000 --> Mean  0.09933263353789062  variance  inf\n"
          ],
          "name": "stdout"
        }
      ]
    },
    {
      "cell_type": "markdown",
      "metadata": {
        "id": "-BJH2dWuOI5f"
      },
      "source": [
        "![SampleMean and SampleVariance.PNG](data:image/png;base64,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)"
      ]
    }
  ]
}