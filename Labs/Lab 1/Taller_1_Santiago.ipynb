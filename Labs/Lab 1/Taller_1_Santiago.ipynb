{
  "nbformat": 4,
  "nbformat_minor": 0,
  "metadata": {
    "colab": {
      "name": "Taller_1 - Santiago.ipynb",
      "provenance": [],
      "collapsed_sections": [],
      "include_colab_link": true
    },
    "kernelspec": {
      "name": "python3",
      "display_name": "Python 3"
    }
  },
  "cells": [
    {
      "cell_type": "markdown",
      "metadata": {
        "id": "view-in-github",
        "colab_type": "text"
      },
      "source": [
        "<a href=\"https://colab.research.google.com/github/santiagoroncancio/ComputationalSimulation/blob/master/Labs/Lab%201/Taller_1_Santiago.ipynb\" target=\"_parent\"><img src=\"https://colab.research.google.com/assets/colab-badge.svg\" alt=\"Open In Colab\"/></a>"
      ]
    },
    {
      "cell_type": "markdown",
      "metadata": {
        "id": "Rhnd7gir-jz-",
        "colab_type": "text"
      },
      "source": [
        "# **Taller 1 - Simulación Computacional 2020-I**\n",
        "\n",
        "Santiago"
      ]
    },
    {
      "cell_type": "markdown",
      "metadata": {
        "id": "eae9HxiDQG8H",
        "colab_type": "text"
      },
      "source": [
        "\n",
        "\n",
        "## 1.\n",
        "Los siguientes datos muestran los tiempos de llegada y los tiempos de servicio que requerirá cada cliente, para los primeros 13 clientes en un sistema de servidor único. A su llegada, un cliente ingresa al servicio si el servidor está libre o se une a la línea de espera. Cuando el servidor completa el trabajo en un cliente, el siguiente en la fila (es decir, el que ha estado esperando por más tiempo) entra en servicio.\n",
        "\n",
        "\n",
        "| Tiempos de llegada  | 12 | 31 | 63 | 95 | 99 | 154 | 198 | 221 | 304 | 346 | 411 | 455 | 537|\n",
        "----------------------| |  |  |  |  |   |   |   |   |   |   |   |  |\n",
        "| Tiempos de servicio | 40 | 32 | 55 | 48 | 18 |  50 |  47 |  18 |  28 |  54 |  40 |  72 |  12|\n",
        "\n",
        "a) Determine los tiempos de salida de estos 13 clientes.<br>\n",
        "b) Repetir a) cuando hay dos servidores y un cliente puede ser atendido por cualquiera.<br>\n",
        "c) Repetir a) bajo el nuevo supuesto que cuando el servidor termina un servicio, el siguiente cliente en entrar al servidor es aquel quien ha estado esperando el menor tiempo."
      ]
    },
    {
      "cell_type": "code",
      "metadata": {
        "id": "PQvoAkyMfeJt",
        "colab_type": "code",
        "colab": {
          "base_uri": "https://localhost:8080/",
          "height": 252
        },
        "outputId": "941de99b-7079-468e-9119-a7491df5e940"
      },
      "source": [
        "## Tiempos de llegada \n",
        "tmp_ll =    [12,31,63,95,99,154,198,221,304,346,411,455,537]\n",
        "## Tiempo de servicio \n",
        "tmp_ser = [40,32,55,48,18,50,47,18,28,54,40,72,12]\n",
        "## Tiempo de salida con un solo servidor -- Caso 1\n",
        "tmp_sal = []\n",
        "## Tiempo de salida con dos servidores -- Caso 2\n",
        "tmp_sal2 = []\n",
        "## Tiempo de salida con menor timpo -- caso 3\n",
        "tmp_sal3 = [0,0,0,0,0,0,0,0,0,0,0,0,0]\n",
        " \n",
        "## Tiempo de salida con un solo servidor\n",
        "aux=0;\n",
        "for i in range(0, len(tmp_ll)):\n",
        "  tmp = tmp_ll[i]\n",
        "  if i > 0:\n",
        "    if tmp_sal[i-1]>tmp_ll[i]:\n",
        "      tmp=tmp_sal[i-1]\n",
        " \n",
        "  aux=tmp+tmp_ser[i] \n",
        "  tmp_sal.append(aux)\n",
        " \n",
        "## Tiempo de salida con dos servidores\n",
        "aux=0\n",
        "for i in range(0,len(tmp_ll)):\n",
        "  tmp=tmp_ll[i]\n",
        "  \n",
        "  if i>1:\n",
        "    if tmp_sal2[i-1]>tmp_ll[i] and tmp_sal2[i-2]>tmp_ll[i]:\n",
        "      if tmp_sal2[i-1]<tmp_sal2[i-2]:\n",
        "        tmp=tmp_sal2[i-1]\n",
        "      else:\n",
        "        tmp=tmp_sal2[i-2]\n",
        " \n",
        "  aux=tmp+tmp_ser[i] \n",
        "  tmp_sal2.append(aux)\n",
        " \n",
        "## Tiempo de salida con los clientes que recien llegan\n",
        "usr=0\n",
        "tmp_sal3[0]=tmp_ll[usr]+tmp_ser[usr]\n",
        "cont=0\n",
        "aux=-1\n",
        "while cont<len(tmp_ll)-1:\n",
        "  for j in range(len(tmp_sal3)-1,0,-1):\n",
        "    if (tmp_sal3[usr]>tmp_ll[j] and tmp_sal3[j]==0):\n",
        "      tmp_sal3[j]=tmp_sal3[usr]+tmp_ser[j]\n",
        "      usr = j\n",
        "      cont=cont+1\n",
        "      aux=-1\n",
        "      break\n",
        "  if aux>cont:\n",
        "    for j in range(0,len(tmp_ll)):\n",
        "      if tmp_sal3[j]==0:\n",
        "         tmp_sal3[j]=tmp_ll[j]+tmp_ser[j]  \n",
        "         usr = j\n",
        "         cont=cont+1\n",
        "         aux=-1\n",
        "  aux=aux+1\n",
        "##    Cliente | tiempo llegada | Tiempo servicio| Tiempo A | tiempo B | tiempo C\n",
        "print(\"i\\tT_lleg\\tT_Ser\\tT_A\\tT_B\\tT_C\")\n",
        "for i in range(0,len(tmp_ll)):\n",
        "  print(\"%d\\t%d\\t%d\\t%d\\t%d\\t%d\" % ((i+1),tmp_ll[i],tmp_ser[i],tmp_sal[i],tmp_sal2[i],tmp_sal3[i]), sep=' ', end='\\n')"
      ],
      "execution_count": null,
      "outputs": [
        {
          "output_type": "stream",
          "text": [
            "i\tT_lleg\tT_Ser\tT_A\tT_B\tT_C\n",
            "1\t12\t40\t52\t52\t52\n",
            "2\t31\t32\t84\t63\t84\n",
            "3\t63\t55\t139\t118\t139\n",
            "4\t95\t48\t187\t143\t320\n",
            "5\t99\t18\t205\t136\t157\n",
            "6\t154\t50\t255\t204\t207\n",
            "7\t198\t47\t302\t245\t254\n",
            "8\t221\t18\t320\t239\t272\n",
            "9\t304\t28\t348\t332\t348\n",
            "10\t346\t54\t402\t400\t402\n",
            "11\t411\t40\t451\t451\t451\n",
            "12\t455\t72\t527\t527\t527\n",
            "13\t537\t12\t549\t549\t549\n"
          ],
          "name": "stdout"
        }
      ]
    },
    {
      "cell_type": "markdown",
      "metadata": {
        "id": "cpUpE8lokBBR",
        "colab_type": "text"
      },
      "source": [
        "## 2.\n",
        "Implementar el método de cuadrados medios (Mid-Square) para cualquier numero de cifras."
      ]
    },
    {
      "cell_type": "code",
      "metadata": {
        "id": "u59S6W7QpbRJ",
        "colab_type": "code",
        "colab": {
          "base_uri": "https://localhost:8080/",
          "height": 202
        },
        "outputId": "dcf92223-2c60-4f70-c639-d0c3ccab1cb8"
      },
      "source": [
        "def mCuadradosMedios(semilla, n, nRes):\n",
        "  x = [semilla]\n",
        "  x2 = [semilla**2]\n",
        "  u = [0]\n",
        "  tam = 2 * n\n",
        "\n",
        "  for i in range(0, nRes):\n",
        "    aux = int(((str(x2[i])[::-1])[n:tam+n:])[::-1])\n",
        "    x.append(aux)\n",
        "    x2.append(aux**2)\n",
        "    u.append(float(\"0.\"+str(aux)))\n",
        "\n",
        "  print(\"i\\tX\\tU\\tX2\")\n",
        "  for i in range(0,nRes):\n",
        "    print(\"%d\\t%d\\t%2.4f\\t%d\" % (i,x[i],u[i], x2[i] ), sep=' ', end='\\n')\n",
        "\n",
        "##  Semilla, Valor de N, Cantidad de valores a imprimir\n",
        "mCuadradosMedios(3708, 2, 10)\n"
      ],
      "execution_count": null,
      "outputs": [
        {
          "output_type": "stream",
          "text": [
            "i\tX\tU\tX2\n",
            "0\t3708\t0.0000\t13749264\n",
            "1\t7492\t0.7492\t56130064\n",
            "2\t1300\t0.1300\t1690000\n",
            "3\t6900\t0.6900\t47610000\n",
            "4\t6100\t0.6100\t37210000\n",
            "5\t2100\t0.2100\t4410000\n",
            "6\t4100\t0.4100\t16810000\n",
            "7\t8100\t0.8100\t65610000\n",
            "8\t6100\t0.6100\t37210000\n",
            "9\t2100\t0.2100\t4410000\n"
          ],
          "name": "stdout"
        }
      ]
    },
    {
      "cell_type": "markdown",
      "metadata": {
        "id": "aRS-Mj1pcjCF",
        "colab_type": "text"
      },
      "source": [
        "## 3.\n",
        "Si $x_0=5$ y\n",
        "$$ x_n = 3x_{n-1} \\mod 150 $$\n",
        "\n",
        "encuentre $x_1,...,x_{10}$"
      ]
    },
    {
      "cell_type": "code",
      "metadata": {
        "id": "CmzS42uw4MPl",
        "colab_type": "code",
        "colab": {
          "base_uri": "https://localhost:8080/",
          "height": 204
        },
        "outputId": "e75b4f71-858e-492a-e1d0-304ab03326e8"
      },
      "source": [
        "def genranN(a,m,x0,N):\n",
        "    xant = x0\n",
        "    X=[]\n",
        "    for i in range(0, N):\n",
        "        xsig = (a*xant) % m\n",
        "        X.append(xsig)\n",
        "        xant = xsig\n",
        "\n",
        "    print(\"i\\t X\")\n",
        "    for i in range(0,N):\n",
        "      print(i+1,\"\\t\",X[i])\n",
        "\n",
        "genranN(3,150,5,10)"
      ],
      "execution_count": null,
      "outputs": [
        {
          "output_type": "stream",
          "text": [
            "i\t X\n",
            "1 \t 15\n",
            "2 \t 45\n",
            "3 \t 135\n",
            "4 \t 105\n",
            "5 \t 15\n",
            "6 \t 45\n",
            "7 \t 135\n",
            "8 \t 105\n",
            "9 \t 15\n",
            "10 \t 45\n"
          ],
          "name": "stdout"
        }
      ]
    },
    {
      "cell_type": "markdown",
      "metadata": {
        "id": "ycKN0yXRd0wD",
        "colab_type": "text"
      },
      "source": [
        "## 4.\n",
        "Si $ x_0=3 $ y\n",
        "$$ x_n = (5x_{n-1}+7) \\mod 200 $$\n",
        "\n",
        "encuentre $x_1,...,x_{10}$"
      ]
    },
    {
      "cell_type": "code",
      "metadata": {
        "id": "IQSVgbpifc9T",
        "colab_type": "code",
        "colab": {
          "base_uri": "https://localhost:8080/",
          "height": 204
        },
        "outputId": "b944ca2b-ff30-4a32-ac8e-952937932467"
      },
      "source": [
        "def genranN(a,b,m,x0,N):\n",
        "    xant = x0\n",
        "    X=[]\n",
        "    for i in range(0, N):\n",
        "        xsig = (a*xant + b) % m\n",
        "        X.append(xsig)\n",
        "        xant = xsig\n",
        "        \n",
        "    print(\"i\\t X\")\n",
        "    for i in range(0,N):\n",
        "      print(i+1,\"\\t\",X[i])\n",
        "\n",
        "genranN(5,7,200,3,10)"
      ],
      "execution_count": null,
      "outputs": [
        {
          "output_type": "stream",
          "text": [
            "i\t X\n",
            "1 \t 22\n",
            "2 \t 117\n",
            "3 \t 192\n",
            "4 \t 167\n",
            "5 \t 42\n",
            "6 \t 17\n",
            "7 \t 92\n",
            "8 \t 67\n",
            "9 \t 142\n",
            "10 \t 117\n"
          ],
          "name": "stdout"
        }
      ]
    },
    {
      "cell_type": "markdown",
      "metadata": {
        "id": "R4qXgEoJG_Uv",
        "colab_type": "text"
      },
      "source": [
        "## 5.\n",
        "Si $x_0=137$ y\n",
        "$$x_n = (15x_{n-1}+3) \\mod 21$$\n",
        "\n",
        "**a)** encuentre $x_1,...,x_{100}$"
      ]
    },
    {
      "cell_type": "code",
      "metadata": {
        "id": "hgXiAOH3bo7f",
        "colab_type": "code",
        "colab": {}
      },
      "source": [
        "def genranN(a,b,m,x0,N):\n",
        "    xant = x0\n",
        "    X=[]\n",
        "    for i in range(0, N):\n",
        "        xsig = (a*xant + b) % m\n",
        "        X.append(xsig)\n",
        "        xant = xsig\n",
        "        \n",
        "    print(\"i\\t X\")\n",
        "    for i in range(0,N):\n",
        "      print(i+1,\"\\t\",X[i])\n",
        "\n",
        "genranN(15,3,21,137,100)\n"
      ],
      "execution_count": null,
      "outputs": []
    },
    {
      "cell_type": "markdown",
      "metadata": {
        "id": "cvNyzsN9-gqe",
        "colab_type": "text"
      },
      "source": [
        "**b)** el tamaño del ciclo (si lo tiene)"
      ]
    },
    {
      "cell_type": "code",
      "metadata": {
        "id": "vTeBbd5YHLhe",
        "colab_type": "code",
        "colab": {
          "base_uri": "https://localhost:8080/",
          "height": 34
        },
        "outputId": "dbe106b5-373b-4cc1-f73e-8fc1ac20c177"
      },
      "source": [
        "def rCiclo(a,b,m,x0,N):\n",
        "  xant = x0\n",
        "  X=[]\n",
        "  for i in range(0, N):\n",
        "    xsig = (a*xant + b) % m\n",
        "    X.append(xsig)\n",
        "    xant = xsig\n",
        "        \n",
        "  ciclo = X\n",
        "\n",
        "  aux = ciclo[0]\n",
        "  for i in range(1, len(ciclo)):\n",
        "    if aux==ciclo[i]:\n",
        "      tmp = i\n",
        "      cont=0\n",
        "      for j in range(0,tmp):\n",
        "        if ciclo[j]==ciclo[tmp+j]:\n",
        "          cont=cont+1\n",
        "      if cont==tmp:\n",
        "        print(cont)\n",
        "        break\n",
        "\n",
        "rCiclo(15,3,21,137,100)"
      ],
      "execution_count": null,
      "outputs": [
        {
          "output_type": "stream",
          "text": [
            "7\n"
          ],
          "name": "stdout"
        }
      ]
    },
    {
      "cell_type": "markdown",
      "metadata": {
        "id": "zdWnWWHhsl0f",
        "colab_type": "text"
      },
      "source": [
        "## 6.\n",
        "Si $ x_0=7 $ y\n",
        "$$ x_n = (5x_{n-1}+3) \\mod 33$$\n",
        "\n",
        "**a)** encuentre $u_1,...,u_{100}$"
      ]
    },
    {
      "cell_type": "code",
      "metadata": {
        "id": "UE2d7o_2tCMV",
        "colab_type": "code",
        "colab": {}
      },
      "source": [
        "def genranN(a,b,m,x0,N):\n",
        "    xant = x0\n",
        "    U=[]\n",
        "    for i in range(0, N):\n",
        "        xsig = (a*xant + b) % m\n",
        "        usig = xsig / m\n",
        "        U.append(usig)\n",
        "        xant = xsig\n",
        "        \n",
        "    print(\"i\\t U\")\n",
        "    for i in range(0,N):\n",
        "      print(i+1,\"\\t\",U[i])\n",
        "\n",
        "genranN(5,3,33,7,100)"
      ],
      "execution_count": null,
      "outputs": []
    },
    {
      "cell_type": "markdown",
      "metadata": {
        "id": "RlNYVdyGtCm5",
        "colab_type": "text"
      },
      "source": [
        "**b)** el tamaño del ciclo (si lo tiene)"
      ]
    },
    {
      "cell_type": "code",
      "metadata": {
        "id": "iAdmuHAAt-qb",
        "colab_type": "code",
        "colab": {
          "base_uri": "https://localhost:8080/",
          "height": 34
        },
        "outputId": "ac832932-985e-469b-ec79-b6dde433111c"
      },
      "source": [
        "def rCiclo(a,b,m,x0,N):\n",
        "  xant = x0\n",
        "  X=[]\n",
        "  for i in range(0, N):\n",
        "    xsig = (a*xant + b) % m\n",
        "    X.append(xsig)\n",
        "    xant = xsig\n",
        "        \n",
        "  ciclo = X\n",
        "\n",
        "  aux = ciclo[0]\n",
        "  for i in range(1, len(ciclo)):\n",
        "    if aux==ciclo[i]:\n",
        "      tmp = i\n",
        "      cont=0\n",
        "      for j in range(0,tmp):\n",
        "        if ciclo[j]==ciclo[tmp+j]:\n",
        "          cont=cont+1\n",
        "      if cont==tmp:\n",
        "        print(cont)\n",
        "        break\n",
        "\n",
        "rCiclo(5,3,33,7,100)"
      ],
      "execution_count": null,
      "outputs": [
        {
          "output_type": "stream",
          "text": [
            "10\n"
          ],
          "name": "stdout"
        }
      ]
    },
    {
      "cell_type": "markdown",
      "metadata": {
        "id": "3PRnEgWTt_Jg",
        "colab_type": "text"
      },
      "source": [
        "## 7.\n",
        "Si $ x_0=123 $ y\n",
        "$$ x_n = (17x_{n-1}+3) \\mod 16 $$\n",
        "\n",
        "**a)** encuentre $u_1,...,u_{100}$"
      ]
    },
    {
      "cell_type": "code",
      "metadata": {
        "id": "7WiQHBIKuVrO",
        "colab_type": "code",
        "colab": {}
      },
      "source": [
        "def genranN(a,b,m,x0,N):\n",
        "    xant = x0\n",
        "    U=[]\n",
        "    for i in range(0, N):\n",
        "        xsig = (a*xant + b) % m\n",
        "        usig = xsig / m\n",
        "        U.append(usig)\n",
        "        xant = xsig\n",
        "        \n",
        "    print(\"i\\t U\")\n",
        "    for i in range(0,N):\n",
        "      print(i+1,\"\\t\",U[i])\n",
        "\n",
        "genranN(17,3,16,123,100)"
      ],
      "execution_count": null,
      "outputs": []
    },
    {
      "cell_type": "markdown",
      "metadata": {
        "id": "aK_uyM2nuWGe",
        "colab_type": "text"
      },
      "source": [
        "**b)** el tamaño del ciclo (si lo tiene)"
      ]
    },
    {
      "cell_type": "code",
      "metadata": {
        "id": "aq2NrdxduW3O",
        "colab_type": "code",
        "colab": {
          "base_uri": "https://localhost:8080/",
          "height": 34
        },
        "outputId": "7c12a99f-12f1-40bc-948d-a0b5ce6318d9"
      },
      "source": [
        "def rCiclo(a,b,m,x0,N):\n",
        "  xant = x0\n",
        "  X=[]\n",
        "  for i in range(0, N):\n",
        "    xsig = (a*xant + b) % m\n",
        "    X.append(xsig)\n",
        "    xant = xsig\n",
        "        \n",
        "  ciclo = X\n",
        "\n",
        "  aux = ciclo[0]\n",
        "  for i in range(1, len(ciclo)):\n",
        "    if aux==ciclo[i]:\n",
        "      tmp = i\n",
        "      cont=0\n",
        "      for j in range(0,tmp):\n",
        "        if ciclo[j]==ciclo[tmp+j]:\n",
        "          cont=cont+1\n",
        "      if cont==tmp:\n",
        "        print(cont)\n",
        "        break\n",
        "\n",
        "rCiclo(17,3,16,123,100)"
      ],
      "execution_count": null,
      "outputs": [
        {
          "output_type": "stream",
          "text": [
            "16\n"
          ],
          "name": "stdout"
        }
      ]
    },
    {
      "cell_type": "markdown",
      "metadata": {
        "id": "1KkIOtVzHL_w",
        "colab_type": "text"
      },
      "source": [
        "## 8.\n",
        "Dados los siguientes valores de la distribución de probabilidad discreta de la variable aleatoria $X$ de un dado de 12 lados: $X = {1,2,3,4,5,6,7,8,9,10,11,12}$, $p(X) = {0.06,0.05,0.05,0.04,0.02,0.02,0.05,0.07,0.2,0.25,0.1,0.09}$, ¿Qué valores retornaría el generador de variables aleatorias por el método de la inversión si los números aleatorios generados son: $U = {0.6996, 0.0318, 0.6344, 0.1708, 0.6865, 0.1573, 0.9454, 0.8211, 0.9102, 0.2579}$?"
      ]
    },
    {
      "cell_type": "code",
      "metadata": {
        "id": "GSkO5rho2vw7",
        "colab_type": "code",
        "colab": {
          "base_uri": "https://localhost:8080/",
          "height": 204
        },
        "outputId": "d59b3634-d520-4124-c8e0-88b08268d022"
      },
      "source": [
        "def inversa(x,px,num_A):\n",
        "    X = []\n",
        "    pxA=[]\n",
        "    for i in range(len(px)):\n",
        "      if i == 0:\n",
        "        pxA.append(px[i])\n",
        "      else:\n",
        "        pxA.append(px[i] + pxA[i - 1])\n",
        "        \n",
        "    for i in range(len(num_A)):\n",
        "        for j in range(len(px)):\n",
        "            if num_A[i] < pxA[j]:\n",
        "                X.append(x[j])\n",
        "                break    \n",
        "\n",
        "    print(\"i\\t X\")\n",
        "    for i in range(len(X)):\n",
        "      print(i+1,\"\\t\",X[i])\n",
        "\n",
        "x=[1,2,3,4,5,6,7,8,9,10,11,12]\n",
        "px=[0.06,0.05,0.05,0.04,0.2,0.02,0.05,0.07,0.2,0.25,0.1,0.09]\n",
        "num_A = [0.6996,0.0318,0.6344,0.1708,0.6865,0.1573,0.9454,0.8211,0.9102,0.2579]\n",
        "inversa(x,px,num_A)"
      ],
      "execution_count": null,
      "outputs": [
        {
          "output_type": "stream",
          "text": [
            "i\t X\n",
            "1 \t 9\n",
            "2 \t 1\n",
            "3 \t 9\n",
            "4 \t 4\n",
            "5 \t 9\n",
            "6 \t 3\n",
            "7 \t 10\n",
            "8 \t 10\n",
            "9 \t 10\n",
            "10 \t 5\n"
          ],
          "name": "stdout"
        }
      ]
    },
    {
      "cell_type": "markdown",
      "metadata": {
        "id": "Y4Ct4DYjrwZh",
        "colab_type": "text"
      },
      "source": [
        "## 9.\n",
        "Implememente la técnica de aceptación y rechazo para la generación de variables aleatorias.\n",
        "\n",
        "**a)** Use la técnica de aceptación y rechazo implementada para la generación de valores aleatorios de la distribución de probabilidad discreta de la suma de la cara de dos dados.<br>\n",
        "**b)** Compare con el método de la transformada inversa generando 50000 valores aleatorios con la misma distribución de probabilidad discreta midiendo el tiempo que toma por cada método generar la misma cantidad de valores aleatorios."
      ]
    },
    {
      "cell_type": "code",
      "metadata": {
        "id": "IUrE7F7T28Ra",
        "colab_type": "code",
        "colab": {
          "base_uri": "https://localhost:8080/",
          "height": 34
        },
        "outputId": "a6d79251-f589-42f9-d44b-15aefd588791"
      },
      "source": [
        "# Ejercicio A\n",
        "def genranN(a,b,m,x0,N):\n",
        "    xant = x0\n",
        "    U=[]\n",
        "    for i in range(0, N):\n",
        "        xsig = (a*xant + b) % m\n",
        "        usig = xsig / m\n",
        "        U.append(usig)\n",
        "        xant = xsig\n",
        "    return [U]\n",
        "\n",
        "def aceptacioRechazo(U1,U2, X, P):\n",
        "  C = max(P)/(1/len(X))\n",
        "\n",
        "  for i in range(0,len(U1)):\n",
        "    Y = int(len(X)*U1[0][i])+1\n",
        "    if U2[0][i] <= (P[Y]/(C/len(X))):\n",
        "      X=Y\n",
        "      break\n",
        "  \n",
        "  print(Y);\n",
        "\n",
        "U1 = genranN(5,3,33,7,100)\n",
        "U2 = genranN(7,3,16,9,100)\n",
        "X = [2,3,4,5,6,7,8,9,10,11,12]\n",
        "P = [1/36,2/36,3/36,4/36,5/36,6/36,5/36,4/36,3/36,2/36,1/36]\n",
        "\n",
        "aceptacioRechazo(U1,U2, X, P)"
      ],
      "execution_count": null,
      "outputs": [
        {
          "output_type": "stream",
          "text": [
            "2\n"
          ],
          "name": "stdout"
        }
      ]
    },
    {
      "cell_type": "code",
      "metadata": {
        "id": "zkzBXJxwiTi8",
        "colab_type": "code",
        "colab": {
          "base_uri": "https://localhost:8080/",
          "height": 84
        },
        "outputId": "93db0e96-dc2a-48c4-82f0-4932a50828fc"
      },
      "source": [
        "# Punto B\n",
        "import time\n",
        "import random\n",
        "\n",
        "def genranN(a,b,m,x0,N):\n",
        "    xant = x0\n",
        "    U=[]\n",
        "    for i in range(0, N):\n",
        "        xsig = (a*xant + b) % m\n",
        "        usig = xsig / m\n",
        "        U.append(usig)\n",
        "        xant = xsig\n",
        "    return [U]\n",
        "\n",
        "def aceptacioRechazo(U1,U2, X, P,N):\n",
        "  C = max(P)/(1/len(X))\n",
        "  aux = []\n",
        "  cont=0\n",
        "  i=0\n",
        "  while(cont<N):\n",
        "    Y = int(len(X)*U1[i])+1\n",
        "    if U2[i] <= (P[Y]/(C/len(X))):\n",
        "      aux.append(Y)\n",
        "      cont=cont+1\n",
        "    i=i+1\n",
        "  return aux\n",
        "\n",
        "def inversa(x,px,num_A):\n",
        "    X = []\n",
        "    pxA=[]\n",
        "    for i in range(len(px)):\n",
        "      if i == 0:\n",
        "        pxA.append(px[i])\n",
        "      else:\n",
        "        pxA.append(px[i] + pxA[i - 1])\n",
        "        \n",
        "    for i in range(num_A):\n",
        "        for j in range(len(px)):\n",
        "            if (random.randrange(10)/random.randrange(1,10)) < pxA[j]:\n",
        "                X.append(x[j])\n",
        "                break\n",
        "    return X  \n",
        "\n",
        "X = [2,3,4,5,6,7,8,9,10,11,12]\n",
        "P = [1/36,2/36,3/36,4/36,5/36,6/36,5/36,4/36,3/36,2/36,1/36]\n",
        "\n",
        "N=50  #Valores aleatorios a generar\n",
        "[U1] = genranN(5,3,33,7,N*2)\n",
        "[U2] = genranN(7,3,16,9,N*2)\n",
        "  \n",
        "start = time.time()\n",
        "ace=aceptacioRechazo(U1,U2, X, P,N)\n",
        "end = time.time()\n",
        "print(\"Tiempo con rechazo\")\n",
        "print (end - start)\n",
        "\n",
        "start2 = time.time()\n",
        "ace= inversa(X,P,N)\n",
        "end2 = time.time()\n",
        "print(\"Tiempo con transformada inversa\")\n",
        "print (end2 - start2)\n"
      ],
      "execution_count": 44,
      "outputs": [
        {
          "output_type": "stream",
          "text": [
            "Tiempo con rechazo\n",
            "0.00011348724365234375\n",
            "Tiempo con transformada inversa\n",
            "0.0006897449493408203\n"
          ],
          "name": "stdout"
        }
      ]
    },
    {
      "cell_type": "markdown",
      "metadata": {
        "id": "s_d8nqQP6Y7y",
        "colab_type": "text"
      },
      "source": [
        "## 10.\n",
        "Implemente el ejemplo de simulación Ad Hoc de clientes atendidos por un cajero de un banco del Taller 0 generando las variables aleatorias discretas tanto del número de minutos entre las llegadas de un cliente y otro al banco ($X$), así como del numero de minutos que le toma al cajero atender un cliente ($Y$). \n",
        "$X$ es una distribución de Poisson con $\\lambda = 5$\n",
        "$Y$ es una distribución Binomial con $n=20$ y $p=0.4$"
      ]
    },
    {
      "cell_type": "code",
      "metadata": {
        "id": "zUbhD7zu-kV9",
        "colab_type": "code",
        "colab": {
          "base_uri": "https://localhost:8080/",
          "height": 370
        },
        "outputId": "55c32cce-53bb-4197-aa09-e1a15be6e34b"
      },
      "source": [
        "import numpy as np\n",
        "\n",
        "def genranN(a,b,m,x0,N):\n",
        "    xant = x0\n",
        "    U=[]\n",
        "    for i in range(0, N):\n",
        "        xsig = (a*xant + b) % m\n",
        "        usig = xsig / m\n",
        "        U.append(usig)\n",
        "        xant = xsig\n",
        "    return [U]\n",
        "\n",
        "def genpoisson(U,L):\n",
        "    i=0\n",
        "    px=np.exp(-L)\n",
        "    Fx=px\n",
        "\n",
        "    while True:\n",
        "      if U < Fx:\n",
        "        Xi = i\n",
        "        return Xi\n",
        "        break\n",
        "      px = (L*px)/(i+1)\n",
        "      Fx = Fx + px\n",
        "      i = i + 1\n",
        "\n",
        "def genpoissonN(Ui,L,N):\n",
        "  X=[]\n",
        "  for i in range(0,len(Ui)):\n",
        "      xi = genpoisson(Ui[i],L)\n",
        "      X.append(xi)\n",
        "  return X\n",
        "\n",
        "def genbinomial(U,n,p):\n",
        "  c=p/(1-p)\n",
        "  i=0\n",
        "  px=np.power(1-p,n)\n",
        "  Fx=px\n",
        "\n",
        "  while True:\n",
        "    if U < Fx:\n",
        "      Xi = i\n",
        "      return Xi\n",
        "      break\n",
        "    px=(c*(n-i)/(i+1))*px \n",
        "    Fx = Fx + px\n",
        "    i = i + 1\n",
        "\n",
        "def genbinomialN(Ui,n,p,N):\n",
        "  X=[]\n",
        "  for i in range(0,len(Ui)):\n",
        "      xi = genbinomial(Ui[i],n,p)\n",
        "      X.append(xi)\n",
        "  return X\n",
        "\n",
        "N=20\n",
        "#Tiempo entre llegadas Poisson Landa=5Y\n",
        "Ui = genranN(5,3,33,7,N)\n",
        "L = 5\n",
        "tel = genpoissonN(Ui[0],L,N)\n",
        "\n",
        "#Tiempo de servicio Binomial n=20 y p=0.4\n",
        "Ui2 = genranN(7,3,16,9,N)\n",
        "n=20\n",
        "p=0.4\n",
        "ts = genbinomialN(Ui2[0],n,p,N)\n",
        "\n",
        "# Customer|TIme Between Arrivals|Arrival Time|Service Time| Service Begins|Time Service Ends|Time in System| Idle Time\t|Time in Queue\n",
        "timeB = 0\n",
        "serB=0\n",
        "timeS=0\n",
        "tel[0] = 0\n",
        "idlT=0\n",
        "timeQ=0\n",
        "print(\"cus\\tTime B\\tArr T\\tServ T\\tServ B\\tTimeEnd\\tTimeSy\\tIdl T\\tTime Q\")\n",
        "for i in range(0, N):\n",
        "  timeB = timeB+tel[i]\n",
        "  serB = serB + tel[i]\n",
        "  if i>0:\n",
        "    idlT=serB-timeS\n",
        "    if idlT<0:\n",
        "      timeQ=-1*idlT\n",
        "      idlT=0\n",
        "    else:\n",
        "      timeQ=0\n",
        "      \n",
        "  serB=serB+timeQ\n",
        "  timeS = ts[i]+serB\n",
        "  timeSys=timeS-serB\n",
        "  \n",
        "  print(i+1,\"\\t\",tel[i],\"\\t\",timeB,\"\\t\",ts[i],\"\\t\",serB,\"\\t\",timeS,\"\\t\",timeSys,\"\\t\",idlT,\"\\t\",timeQ)\n",
        "\n"
      ],
      "execution_count": 76,
      "outputs": [
        {
          "output_type": "stream",
          "text": [
            "cus\tTime B\tArr T\tServ T\tServ B\tTimeEnd\tTimeSy\tIdl T\tTime Q\n",
            "1 \t 0 \t 0 \t 5 \t 0 \t 5 \t 5 \t 0 \t 0\n",
            "2 \t 7 \t 7 \t 5 \t 7 \t 12 \t 5 \t 2 \t 0\n",
            "3 \t 4 \t 11 \t 9 \t 12 \t 21 \t 9 \t 0 \t 1\n",
            "4 \t 6 \t 17 \t 8 \t 21 \t 29 \t 8 \t 0 \t 3\n",
            "5 \t 8 \t 25 \t 5 \t 29 \t 34 \t 5 \t 0 \t 0\n",
            "6 \t 5 \t 30 \t 5 \t 34 \t 39 \t 5 \t 0 \t 0\n",
            "7 \t 5 \t 35 \t 9 \t 39 \t 48 \t 9 \t 0 \t 0\n",
            "8 \t 6 \t 41 \t 8 \t 48 \t 56 \t 8 \t 0 \t 3\n",
            "9 \t 4 \t 45 \t 5 \t 56 \t 61 \t 5 \t 0 \t 4\n",
            "10 \t 3 \t 48 \t 5 \t 61 \t 66 \t 5 \t 0 \t 2\n",
            "11 \t 3 \t 51 \t 9 \t 66 \t 75 \t 9 \t 0 \t 2\n",
            "12 \t 7 \t 58 \t 8 \t 75 \t 83 \t 8 \t 0 \t 2\n",
            "13 \t 4 \t 62 \t 5 \t 83 \t 88 \t 5 \t 0 \t 4\n",
            "14 \t 6 \t 68 \t 5 \t 89 \t 94 \t 5 \t 1 \t 0\n",
            "15 \t 8 \t 76 \t 9 \t 97 \t 106 \t 9 \t 3 \t 0\n",
            "16 \t 5 \t 81 \t 8 \t 106 \t 114 \t 8 \t 0 \t 4\n",
            "17 \t 5 \t 86 \t 5 \t 114 \t 119 \t 5 \t 0 \t 3\n",
            "18 \t 6 \t 92 \t 5 \t 120 \t 125 \t 5 \t 1 \t 0\n",
            "19 \t 4 \t 96 \t 9 \t 125 \t 134 \t 9 \t 0 \t 1\n",
            "20 \t 3 \t 99 \t 8 \t 134 \t 142 \t 8 \t 0 \t 6\n"
          ],
          "name": "stdout"
        }
      ]
    }
  ]
}